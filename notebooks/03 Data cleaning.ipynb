{
 "cells": [
  {
   "cell_type": "markdown",
   "metadata": {
    "nteract": {
     "transient": {
      "deleting": false
     }
    }
   },
   "source": [
    "# Data cleaning\n",
    "\n",
    "This notebook processes the data exported from the EDA notebook after feedback with data owner."
   ]
  },
  {
   "cell_type": "code",
   "execution_count": null,
   "metadata": {
    "gather": {
     "logged": 1650446746750
    },
    "jupyter": {
     "outputs_hidden": false,
     "source_hidden": false
    },
    "nteract": {
     "transient": {
      "deleting": false
     }
    }
   },
   "outputs": [],
   "source": [
    "import pandas as pd\n",
    "import seaborn as sns\n",
    "\n",
    "pd.set_option(\"display.max_rows\", 500)\n",
    "pd.set_option(\"display.max_columns\", 100)\n",
    "\n",
    "%matplotlib inline"
   ]
  },
  {
   "cell_type": "code",
   "execution_count": null,
   "metadata": {
    "gather": {
     "logged": 1650446021519
    },
    "jupyter": {
     "outputs_hidden": false,
     "source_hidden": false
    },
    "nteract": {
     "transient": {
      "deleting": false
     }
    }
   },
   "outputs": [],
   "source": [
    "# Load data\n",
    "eda_data_df = pd.read_parquet(\"../data/02-eda.parquet\")"
   ]
  },
  {
   "cell_type": "code",
   "execution_count": null,
   "metadata": {
    "gather": {
     "logged": 1650446022397
    },
    "jupyter": {
     "outputs_hidden": false,
     "source_hidden": false
    },
    "nteract": {
     "transient": {
      "deleting": false
     }
    }
   },
   "outputs": [],
   "source": [
    "eda_data_df.columns"
   ]
  },
  {
   "cell_type": "markdown",
   "metadata": {
    "nteract": {
     "transient": {
      "deleting": false
     }
    }
   },
   "source": [
    "## Drop early rows missing data\n",
    "\n",
    "As explored during EDA, the earliest ~100k rows are missing a lot of data due to the introduction of a new clinical system. Remove these rows rather than impute."
   ]
  },
  {
   "cell_type": "code",
   "execution_count": null,
   "metadata": {
    "gather": {
     "logged": 1650447010280
    },
    "jupyter": {
     "outputs_hidden": false,
     "source_hidden": false
    },
    "nteract": {
     "transient": {
      "deleting": false
     }
    }
   },
   "outputs": [],
   "source": [
    "# visualise when the missing rows end; wait_minutes is a newer field\n",
    "eda_data_df.wait_minutes.plot()"
   ]
  },
  {
   "cell_type": "code",
   "execution_count": null,
   "metadata": {
    "gather": {
     "logged": 1650447060201
    },
    "jupyter": {
     "outputs_hidden": false,
     "source_hidden": false
    },
    "nteract": {
     "transient": {
      "deleting": false
     }
    }
   },
   "outputs": [],
   "source": [
    "# create a new dataframe starting with first valid entry for wait_minutes\n",
    "modern_data_df = eda_data_df[\n",
    "    eda_data_df.index >= eda_data_df.wait_minutes.first_valid_index()\n",
    "]\n",
    "modern_data_df.wait_minutes.plot()"
   ]
  },
  {
   "cell_type": "code",
   "execution_count": null,
   "metadata": {
    "gather": {
     "logged": 1650447178338
    },
    "jupyter": {
     "outputs_hidden": false,
     "source_hidden": false
    },
    "nteract": {
     "transient": {
      "deleting": false
     }
    }
   },
   "outputs": [],
   "source": [
    "# the gap is still visible, check first few values\n",
    "modern_data_df.wait_minutes.head()"
   ]
  },
  {
   "cell_type": "code",
   "execution_count": null,
   "metadata": {
    "gather": {
     "logged": 1650447201871
    },
    "jupyter": {
     "outputs_hidden": false,
     "source_hidden": false
    },
    "nteract": {
     "transient": {
      "deleting": false
     }
    }
   },
   "outputs": [],
   "source": [
    "# there is one odd row with a value for wait_minutes, remove this\n",
    "modern_data_df.drop(index=66955, inplace=True)"
   ]
  },
  {
   "cell_type": "code",
   "execution_count": null,
   "metadata": {
    "gather": {
     "logged": 1650447234861
    },
    "jupyter": {
     "outputs_hidden": false,
     "source_hidden": false
    },
    "nteract": {
     "transient": {
      "deleting": false
     }
    }
   },
   "outputs": [],
   "source": [
    "# reprocess to find the beginning of the \"modern\" block of data\n",
    "modern_data_df = modern_data_df[\n",
    "    modern_data_df.index >= modern_data_df.wait_minutes.first_valid_index()\n",
    "]\n",
    "modern_data_df.wait_minutes.plot()"
   ]
  },
  {
   "cell_type": "markdown",
   "metadata": {
    "nteract": {
     "transient": {
      "deleting": false
     }
    }
   },
   "source": [
    "## Drop redundant/agreed columns\n",
    "\n",
    "As agreed with data SME"
   ]
  },
  {
   "cell_type": "code",
   "execution_count": null,
   "metadata": {
    "gather": {
     "logged": 1650448162485
    },
    "jupyter": {
     "outputs_hidden": false,
     "source_hidden": false
    },
    "nteract": {
     "transient": {
      "deleting": false
     }
    }
   },
   "outputs": [],
   "source": [
    "reduced_cols_df = (\n",
    "    modern_data_df.drop(\n",
    "        # Drop redundant columns\n",
    "        columns=[\n",
    "            \"Frailty Proxy\",\n",
    "            \"all_breach_reason_codes\",\n",
    "            \"ae_attendance_category_code\",\n",
    "            \"all_diagnosis_codes\",\n",
    "            \"all_investigation_codes\",\n",
    "            \"all_local_investigation_codes\",\n",
    "            \"all_local_treatment_codes\",\n",
    "            \"all_treatment_codes\",\n",
    "            \"PATIENT_CLASSIFICATION\",\n",
    "            \"PATIENT_GENDER_CURRENT\",\n",
    "            \"SOURCE_OF_ADMISSION_HOSPITAL_PROVIDER_SPELL\",\n",
    "            \"TREATMENT_FUNCTION_CODE_AT_ADMISSION\",\n",
    "            \"MAIN_SPECIALTY_CODE_AT_ADMISSION\",\n",
    "            \"ae_initial_assessment_triage_category_code\",\n",
    "            \"ae_initial_assessment_triage_category\",\n",
    "            \"major_minor\",\n",
    "            \"manchester_triage_category\",\n",
    "        ]\n",
    "    )\n",
    "    .drop(\n",
    "        # Drop identifier columns\n",
    "        columns=[\n",
    "            \"LOCAL_PATIENT_IDENTIFIER\",\n",
    "            \"previous_30_day_hospital_provider_spell_number\",\n",
    "            \"ED_attendance_episode_number\",\n",
    "            \"unique_internal_ED_admission_number\",\n",
    "            \"unique_internal_IP_admission_number\",\n",
    "        ]\n",
    "    )\n",
    "    .drop(\n",
    "        # Drop less useful columns\n",
    "        columns=[\"wait_minutes\", \"initial_wait_minutes\"]\n",
    "    )\n",
    ")"
   ]
  },
  {
   "cell_type": "code",
   "execution_count": null,
   "metadata": {
    "gather": {
     "logged": 1650448164608
    },
    "jupyter": {
     "outputs_hidden": false,
     "source_hidden": false
    },
    "nteract": {
     "transient": {
      "deleting": false
     }
    }
   },
   "outputs": [],
   "source": [
    "reduced_cols_df.shape"
   ]
  },
  {
   "cell_type": "code",
   "execution_count": null,
   "metadata": {
    "gather": {
     "logged": 1650448208841
    },
    "jupyter": {
     "outputs_hidden": false,
     "source_hidden": false
    },
    "nteract": {
     "transient": {
      "deleting": false
     }
    }
   },
   "outputs": [],
   "source": [
    "# visualise missing data\n",
    "sns.set(rc={\"figure.figsize\": (15, 8)})\n",
    "sns.heatmap(reduced_cols_df.isnull(), cbar=False);"
   ]
  },
  {
   "cell_type": "markdown",
   "metadata": {
    "nteract": {
     "transient": {
      "deleting": false
     }
    }
   },
   "source": [
    "## Assign nan values \n",
    "\n",
    "* SME agrees that NaN = N for stroke_ward_stay\n",
    "* SME agrees that None = N for IS_MAJOR"
   ]
  },
  {
   "cell_type": "code",
   "execution_count": null,
   "metadata": {
    "gather": {
     "logged": 1650448209112
    },
    "jupyter": {
     "outputs_hidden": false,
     "source_hidden": false
    },
    "nteract": {
     "transient": {
      "deleting": false
     }
    }
   },
   "outputs": [],
   "source": [
    "reduced_cols_df.stroke_ward_stay.value_counts()"
   ]
  },
  {
   "cell_type": "code",
   "execution_count": null,
   "metadata": {
    "gather": {
     "logged": 1650448209355
    },
    "jupyter": {
     "outputs_hidden": false,
     "source_hidden": false
    },
    "nteract": {
     "transient": {
      "deleting": false
     }
    }
   },
   "outputs": [],
   "source": [
    "# fill stroke_ward_stay\n",
    "imputed_df = reduced_cols_df.copy()\n",
    "imputed_df.stroke_ward_stay.fillna(value=\"N\", inplace=True)\n",
    "imputed_df.stroke_ward_stay.value_counts()"
   ]
  },
  {
   "cell_type": "code",
   "execution_count": null,
   "metadata": {
    "gather": {
     "logged": 1650448209628
    },
    "jupyter": {
     "outputs_hidden": false,
     "source_hidden": false
    },
    "nteract": {
     "transient": {
      "deleting": false
     }
    }
   },
   "outputs": [],
   "source": [
    "imputed_df.IS_major.value_counts()"
   ]
  },
  {
   "cell_type": "code",
   "execution_count": null,
   "metadata": {
    "gather": {
     "logged": 1650448209828
    },
    "jupyter": {
     "outputs_hidden": false,
     "source_hidden": false
    },
    "nteract": {
     "transient": {
      "deleting": false
     }
    }
   },
   "outputs": [],
   "source": [
    "# fill IS_major\n",
    "imputed_df.IS_major.fillna(value=\"N\", inplace=True)\n",
    "imputed_df.IS_major.value_counts()"
   ]
  },
  {
   "cell_type": "markdown",
   "metadata": {
    "nteract": {
     "transient": {
      "deleting": false
     }
    }
   },
   "source": [
    "## Drop sparse rows"
   ]
  },
  {
   "cell_type": "code",
   "execution_count": null,
   "metadata": {
    "gather": {
     "logged": 1650448285559
    },
    "jupyter": {
     "outputs_hidden": false,
     "source_hidden": false
    },
    "nteract": {
     "transient": {
      "deleting": false
     }
    }
   },
   "outputs": [],
   "source": [
    "# check for null values across dataset\n",
    "imputed_df.isnull().sum()"
   ]
  },
  {
   "cell_type": "code",
   "execution_count": null,
   "metadata": {
    "gather": {
     "logged": 1650448611763
    },
    "jupyter": {
     "outputs_hidden": false,
     "source_hidden": false
    },
    "nteract": {
     "transient": {
      "deleting": false
     }
    }
   },
   "outputs": [],
   "source": [
    "# some columns have < 1000 null values, and a larger subset have ~68000 missing. Drop these\n",
    "removed_sparse_rows_df = imputed_df.dropna(\n",
    "    subset=[\n",
    "        \"ADMISSION_METHOD_HOSPITAL_PROVIDER_SPELL_DESCRIPTION\",\n",
    "        \"EXPECTED_DISCHARGE_DATE\",\n",
    "        \"MAIN_SPECIALTY_CODE_AT_ADMISSION_DESCRIPTION\",\n",
    "        \"POST_CODE_AT_ADMISSION_DATE_DISTRICT\",\n",
    "        \"IMD county decile\",\n",
    "        \"all_diagnoses\",\n",
    "    ]\n",
    ")"
   ]
  },
  {
   "cell_type": "markdown",
   "metadata": {
    "nteract": {
     "transient": {
      "deleting": false
     }
    }
   },
   "source": [
    "## Add derived fields\n",
    "\n",
    "These were removed during EDA and can now be calculated for the full dataset"
   ]
  },
  {
   "cell_type": "code",
   "execution_count": null,
   "metadata": {
    "gather": {
     "logged": 1650448612165
    },
    "jupyter": {
     "outputs_hidden": false,
     "source_hidden": false
    },
    "nteract": {
     "transient": {
      "deleting": false
     }
    }
   },
   "outputs": [],
   "source": [
    "derived_df = removed_sparse_rows_df.copy()\n",
    "derived_df[\n",
    "    \"arrival_day_of_week\"\n",
    "] = derived_df.START_DATE_TIME_HOSPITAL_PROVIDER_SPELL.dt.day_name().str[:3]\n",
    "derived_df[\n",
    "    \"arrival_month_name\"\n",
    "] = derived_df.START_DATE_TIME_HOSPITAL_PROVIDER_SPELL.dt.month_name().str[:3]"
   ]
  },
  {
   "cell_type": "code",
   "execution_count": null,
   "metadata": {
    "gather": {
     "logged": 1650448612398
    },
    "jupyter": {
     "outputs_hidden": false,
     "source_hidden": false
    },
    "nteract": {
     "transient": {
      "deleting": false
     }
    }
   },
   "outputs": [],
   "source": [
    "derived_df.arrival_day_of_week.unique()"
   ]
  },
  {
   "cell_type": "code",
   "execution_count": null,
   "metadata": {
    "gather": {
     "logged": 1650448612684
    },
    "jupyter": {
     "outputs_hidden": false,
     "source_hidden": false
    },
    "nteract": {
     "transient": {
      "deleting": false
     }
    }
   },
   "outputs": [],
   "source": [
    "# Mid-week appears busier. Weekend is quietest\n",
    "derived_df.arrival_day_of_week.value_counts()"
   ]
  },
  {
   "cell_type": "code",
   "execution_count": null,
   "metadata": {
    "gather": {
     "logged": 1650448612963
    },
    "jupyter": {
     "outputs_hidden": false,
     "source_hidden": false
    },
    "nteract": {
     "transient": {
      "deleting": false
     }
    }
   },
   "outputs": [],
   "source": [
    "derived_df.arrival_month_name.unique()"
   ]
  },
  {
   "cell_type": "code",
   "execution_count": null,
   "metadata": {
    "gather": {
     "logged": 1650448613454
    },
    "jupyter": {
     "outputs_hidden": false,
     "source_hidden": false
    },
    "nteract": {
     "transient": {
      "deleting": false
     }
    }
   },
   "outputs": [],
   "source": [
    "# Winter months are busiest\n",
    "derived_df.arrival_month_name.value_counts()"
   ]
  },
  {
   "cell_type": "markdown",
   "metadata": {
    "nteract": {
     "transient": {
      "deleting": false
     }
    }
   },
   "source": [
    "## Homogenise binary fields\n",
    "\n",
    "Many fields are encoding as Y/N or similar, convert these into binary fields"
   ]
  },
  {
   "cell_type": "code",
   "execution_count": null,
   "metadata": {
    "gather": {
     "logged": 1650449146256
    },
    "jupyter": {
     "outputs_hidden": false,
     "source_hidden": false
    },
    "nteract": {
     "transient": {
      "deleting": false
     }
    }
   },
   "outputs": [],
   "source": [
    "binary_fields_df = derived_df.copy()\n",
    "binary_fields_df.stroke_ward_stay = binary_fields_df.stroke_ward_stay.apply(\n",
    "    lambda x: 0 if x == \"N\" else 1\n",
    ")\n",
    "binary_fields_df.IS_care_home_on_admission = (\n",
    "    binary_fields_df.IS_care_home_on_admission.apply(lambda x: 0 if x == \"N\" else 1)\n",
    ")\n",
    "binary_fields_df.IS_care_home_on_discharge = (\n",
    "    binary_fields_df.IS_care_home_on_discharge.apply(lambda x: 0 if x == \"N\" else 1)\n",
    ")\n",
    "# create new fields\n",
    "binary_fields_df[\"IS_illness_not_injury\"] = binary_fields_df[\"Illness Injury Flag\"].map(\n",
    "    {\"Illness\": 1, \"Injury\": 0}\n",
    ")\n",
    "binary_fields_df[\"IS_elective\"] = binary_fields_df.elective_or_non_elective.map(\n",
    "    {\"Non-elective admission\": 0, \"Elective admission\": 1}\n",
    ")\n",
    "# drop old\n",
    "binary_fields_df.drop(\n",
    "    columns=[\"Illness Injury Flag\", \"elective_or_non_elective\"], inplace=True\n",
    ")"
   ]
  },
  {
   "cell_type": "code",
   "execution_count": null,
   "metadata": {
    "gather": {
     "logged": 1650449163825
    },
    "jupyter": {
     "outputs_hidden": false,
     "source_hidden": false
    },
    "nteract": {
     "transient": {
      "deleting": false
     }
    }
   },
   "outputs": [],
   "source": [
    "# check new binary fields\n",
    "for field in [\n",
    "    \"stroke_ward_stay\",\n",
    "    \"IS_care_home_on_admission\",\n",
    "    \"IS_care_home_on_discharge\",\n",
    "    \"IS_illness_not_injury\",\n",
    "    \"IS_elective\",\n",
    "]:\n",
    "    print(\n",
    "        f\"{field} has {binary_fields_df[field].isnull().sum()} null values and values:\"\n",
    "    )\n",
    "    print(binary_fields_df[field].value_counts())"
   ]
  },
  {
   "cell_type": "markdown",
   "metadata": {
    "nteract": {
     "transient": {
      "deleting": false
     }
    }
   },
   "source": [
    "## Check genders"
   ]
  },
  {
   "cell_type": "code",
   "execution_count": null,
   "metadata": {
    "gather": {
     "logged": 1650449381429
    },
    "jupyter": {
     "outputs_hidden": false,
     "source_hidden": false
    },
    "nteract": {
     "transient": {
      "deleting": false
     }
    }
   },
   "outputs": [],
   "source": [
    "# there are only 13 \"not specified\" gender, all others are M/F\n",
    "binary_fields_df.PATIENT_GENDER_CURRENT_DESCRIPTION.value_counts()"
   ]
  },
  {
   "cell_type": "code",
   "execution_count": null,
   "metadata": {
    "gather": {
     "logged": 1650449397228
    },
    "jupyter": {
     "outputs_hidden": false,
     "source_hidden": false
    },
    "nteract": {
     "transient": {
      "deleting": false
     }
    }
   },
   "outputs": [],
   "source": [
    "# drop \"not specified\" values\n",
    "genders_df = binary_fields_df.drop(\n",
    "    labels=binary_fields_df[\n",
    "        binary_fields_df.PATIENT_GENDER_CURRENT_DESCRIPTION == \"Not specified\"\n",
    "    ].index\n",
    ")"
   ]
  },
  {
   "cell_type": "code",
   "execution_count": null,
   "metadata": {
    "gather": {
     "logged": 1650449397450
    },
    "jupyter": {
     "outputs_hidden": false,
     "source_hidden": false
    },
    "nteract": {
     "transient": {
      "deleting": false
     }
    }
   },
   "outputs": [],
   "source": [
    "# check null values\n",
    "# there are still some columns with majority (~400k) values null; these can be encoding in a null field during modelling e.g. ae_arrival_mode\n",
    "genders_df.isnull().sum()"
   ]
  },
  {
   "cell_type": "code",
   "execution_count": null,
   "metadata": {
    "gather": {
     "logged": 1650449441282
    },
    "jupyter": {
     "outputs_hidden": false,
     "source_hidden": false
    },
    "nteract": {
     "transient": {
      "deleting": false
     }
    }
   },
   "outputs": [],
   "source": [
    "# plot null values\n",
    "sns.set(rc={\"figure.figsize\": (15, 8)})\n",
    "sns.heatmap(genders_df.isnull(), cbar=False);"
   ]
  },
  {
   "cell_type": "code",
   "execution_count": null,
   "metadata": {
    "gather": {
     "logged": 1650449460326
    },
    "jupyter": {
     "outputs_hidden": false,
     "source_hidden": false
    },
    "nteract": {
     "transient": {
      "deleting": false
     }
    }
   },
   "outputs": [],
   "source": [
    "genders_df.shape"
   ]
  },
  {
   "cell_type": "code",
   "execution_count": null,
   "metadata": {
    "gather": {
     "logged": 1650449441532
    },
    "jupyter": {
     "outputs_hidden": false,
     "source_hidden": false
    },
    "nteract": {
     "transient": {
      "deleting": false
     }
    }
   },
   "outputs": [],
   "source": [
    "# export data\n",
    "genders_df.to_parquet(\"../data/03-clean-data.parquet\")"
   ]
  }
 ],
 "metadata": {
  "kernel_info": {
   "name": "python38-azureml"
  },
  "language_info": {
   "codemirror_mode": {
    "name": "ipython",
    "version": 3
   },
   "file_extension": ".py",
   "mimetype": "text/x-python",
   "name": "python",
   "nbconvert_exporter": "python",
   "pygments_lexer": "ipython3",
   "version": "3.8.1"
  },
  "microsoft": {
   "host": {
    "AzureML": {
     "notebookHasBeenCompleted": true
    }
   }
  },
  "nteract": {
   "version": "nteract-front-end@1.0.0"
  }
 },
 "nbformat": 4,
 "nbformat_minor": 2
}
