{
 "cells": [
  {
   "cell_type": "markdown",
   "metadata": {
    "nteract": {
     "transient": {
      "deleting": false
     }
    }
   },
   "source": [
    "# Feature engineering\n",
    "\n",
    "This notebook processes cleaned data into the feature set used for modelling.\n",
    "\n",
    "The decisions around feature engineering are the culmination of a number of explorations of the data, including modelling of the full dataset, which is not included in this repository."
   ]
  },
  {
   "cell_type": "code",
   "execution_count": null,
   "metadata": {
    "gather": {
     "logged": 1651139976709
    },
    "jupyter": {
     "outputs_hidden": false,
     "source_hidden": false
    },
    "nteract": {
     "transient": {
      "deleting": false
     }
    }
   },
   "outputs": [],
   "source": [
    "import numpy as np\n",
    "import pandas as pd\n",
    "\n",
    "pd.set_option(\"display.max_rows\", None)\n",
    "pd.set_option(\"display.max_columns\", None)"
   ]
  },
  {
   "cell_type": "code",
   "execution_count": null,
   "metadata": {
    "gather": {
     "logged": 1651140027504
    },
    "jupyter": {
     "outputs_hidden": false,
     "source_hidden": false
    },
    "nteract": {
     "transient": {
      "deleting": false
     }
    }
   },
   "outputs": [],
   "source": [
    "# Load data\n",
    "clean_data_df = pd.read_parquet(\"../../data/clean-data.parquet\")"
   ]
  },
  {
   "cell_type": "markdown",
   "metadata": {},
   "source": [
    "## Add derived fields\n",
    "\n",
    "These were removed during cleaning due to missing data, and can be recalculated:"
   ]
  },
  {
   "cell_type": "code",
   "execution_count": null,
   "metadata": {},
   "outputs": [],
   "source": [
    "derived_df = clean_data_df.copy()\n",
    "derived_df[\n",
    "    \"arrival_day_of_week\"\n",
    "] = derived_df.START_DATE_TIME_HOSPITAL_PROVIDER_SPELL.dt.day_name().str[:3]\n",
    "derived_df[\n",
    "    \"arrival_month_name\"\n",
    "] = derived_df.START_DATE_TIME_HOSPITAL_PROVIDER_SPELL.dt.month_name().str[:3]"
   ]
  },
  {
   "cell_type": "markdown",
   "metadata": {
    "nteract": {
     "transient": {
      "deleting": false
     }
    }
   },
   "source": [
    "## Select agreed columns\n",
    "\n",
    "As agreed with data SME"
   ]
  },
  {
   "cell_type": "code",
   "execution_count": null,
   "metadata": {
    "jupyter": {
     "outputs_hidden": false,
     "source_hidden": false
    },
    "nteract": {
     "transient": {
      "deleting": false
     }
    }
   },
   "outputs": [],
   "source": [
    "columns = [\n",
    "    \"ADMISSION_METHOD_HOSPITAL_PROVIDER_SPELL_DESCRIPTION\",\n",
    "    \"ae_arrival_mode\",\n",
    "    \"IS_major\",\n",
    "    \"AGE_ON_ADMISSION\",\n",
    "    \"ED CountLast12m\",\n",
    "    \"EL CountLast12m\",\n",
    "    \"IS_elective\",\n",
    "    \"EMCountLast12m\",\n",
    "    \"IS_illness_not_injury\",\n",
    "    \"IS_cancer\",\n",
    "    \"IS_care_home_on_admission\",\n",
    "    \"IS_chronic_kidney_disease\",\n",
    "    \"IS_COPD\",\n",
    "    \"IS_coronary_heart_disease\",\n",
    "    \"IS_dementia\",\n",
    "    \"IS_diabetes\",\n",
    "    \"IS_frailty_proxy\",\n",
    "    \"IS_hypertension\",\n",
    "    \"IS_mental_health\",\n",
    "    \"MAIN_SPECIALTY_CODE_AT_ADMISSION_DESCRIPTION\",\n",
    "    \"OP First CountLast12m\",\n",
    "    \"OP FU CountLast12m\",\n",
    "    \"SOURCE_OF_ADMISSION_HOSPITAL_PROVIDER_SPELL_DESCRIPTION\",\n",
    "    \"stroke_ward_stay\",\n",
    "    \"LENGTH_OF_STAY\",\n",
    "    \"arrival_day_of_week\",\n",
    "    \"arrival_month_name\",\n",
    "]\n",
    "subset_df = derived_df[columns]"
   ]
  },
  {
   "cell_type": "markdown",
   "metadata": {},
   "source": [
    "## One-hot encode categorical data"
   ]
  },
  {
   "cell_type": "code",
   "execution_count": null,
   "metadata": {},
   "outputs": [],
   "source": [
    "# differentiate between non-null and null categorical features\n",
    "categorical_features = subset_df.columns[subset_df.dtypes == \"object\"]\n",
    "categorical_features_with_null = list(\n",
    "    subset_df[categorical_features].columns[\n",
    "        subset_df[categorical_features].isnull().sum() > 0\n",
    "    ]\n",
    ")\n",
    "categorical_features_without_null = list(\n",
    "    subset_df[categorical_features].columns[\n",
    "        subset_df[categorical_features].isnull().sum() == 0\n",
    "    ]\n",
    ")\n",
    "print(categorical_features_with_null)\n",
    "print(categorical_features_without_null)"
   ]
  },
  {
   "cell_type": "code",
   "execution_count": null,
   "metadata": {},
   "outputs": [],
   "source": [
    "# TBC\n",
    "# Null values will be encoded by the absence of any of their categories\n",
    "# However, we may lose interpretability of the importance of NaN values if we don't include a dummy var\n",
    "# Update, na values are highly correlated so dropping\n",
    "df3 = pd.get_dummies(df2, columns=categorical_features_with_null, dummy_na=True)"
   ]
  },
  {
   "cell_type": "code",
   "execution_count": null,
   "metadata": {},
   "outputs": [],
   "source": [
    "# To avoid the \"dummy variable trap\", we could drop the first category of these features to reduce duplication.\n",
    "# However, we may lose interpretability if e.g. Monday is dropped and is an important feature?\n",
    "df4 = pd.get_dummies(df3, columns=categorical_features_without_null, drop_first=False)"
   ]
  },
  {
   "cell_type": "code",
   "execution_count": null,
   "metadata": {},
   "outputs": [],
   "source": [
    "# check for correlation with LENGTH OF STAY\n",
    "corr = datetime_df.corr()\n",
    "corr.LENGTH_OF_STAY[corr.LENGTH_OF_STAY.abs().sort_values(ascending=False).index]"
   ]
  },
  {
   "cell_type": "code",
   "execution_count": null,
   "metadata": {},
   "outputs": [],
   "source": [
    "# export to parquet"
   ]
  }
 ],
 "metadata": {
  "kernel_info": {
   "name": "python38-azureml"
  },
  "language_info": {
   "codemirror_mode": {
    "name": "ipython",
    "version": 3
   },
   "file_extension": ".py",
   "mimetype": "text/x-python",
   "name": "python",
   "nbconvert_exporter": "python",
   "pygments_lexer": "ipython3",
   "version": "3.8.1"
  },
  "microsoft": {
   "host": {
    "AzureML": {
     "notebookHasBeenCompleted": true
    }
   }
  },
  "nteract": {
   "version": "nteract-front-end@1.0.0"
  }
 },
 "nbformat": 4,
 "nbformat_minor": 2
}
